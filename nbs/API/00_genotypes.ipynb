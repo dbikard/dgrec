{
 "cells": [
  {
   "cell_type": "markdown",
   "metadata": {},
   "source": [
    "# genotypes\n",
    "\n",
    "> Functions to go a fastq file to a list of genotypes"
   ]
  },
  {
   "cell_type": "code",
   "execution_count": null,
   "metadata": {},
   "outputs": [
    {
     "name": "stdout",
     "output_type": "stream",
     "text": [
      "The autoreload extension is already loaded. To reload it, use:\n",
      "  %reload_ext autoreload\n"
     ]
    }
   ],
   "source": [
    "#| hide\n",
    "%load_ext autoreload\n",
    "%autoreload 2"
   ]
  },
  {
   "cell_type": "code",
   "execution_count": null,
   "metadata": {},
   "outputs": [],
   "source": [
    "#| default_exp genotypes"
   ]
  },
  {
   "cell_type": "code",
   "execution_count": null,
   "metadata": {},
   "outputs": [],
   "source": [
    "#| hide\n",
    "from nbdev.showdoc import *\n"
   ]
  },
  {
   "cell_type": "code",
   "execution_count": null,
   "metadata": {},
   "outputs": [],
   "source": [
    "#| export\n",
    "from fastcore.basics import *\n",
    "from Bio import SeqIO\n",
    "import gzip as gz\n",
    "import os\n",
    "from collections import defaultdict, Counter\n",
    "import numpy as np\n",
    "import itertools\n",
    "import click\n",
    "import csv\n",
    "from dgrec.utils import get_mutations, mut_to_str"
   ]
  },
  {
   "cell_type": "code",
   "execution_count": null,
   "metadata": {},
   "outputs": [],
   "source": [
    "#| hide\n",
    "from dgrec.example_data import get_example_data_dir"
   ]
  },
  {
   "cell_type": "code",
   "execution_count": null,
   "metadata": {},
   "outputs": [
    {
     "data": {
      "text/plain": [
       "['paired_example1_R2.fastq.gz',\n",
       " 'sacB_genotypes.csv',\n",
       " 'sacB_ref.fasta',\n",
       " '__pycache__',\n",
       " 'model_mms_2024_02_14.pickle',\n",
       " 'sacB_example.fastq.gz',\n",
       " 'example1_ref.fasta',\n",
       " 'paired_example1_R1.fastq.gz',\n",
       " '__init__.py']"
      ]
     },
     "execution_count": null,
     "metadata": {},
     "output_type": "execute_result"
    }
   ],
   "source": [
    "#| hide\n",
    "data_path=get_example_data_dir()\n",
    "os.listdir(data_path)"
   ]
  },
  {
   "cell_type": "code",
   "execution_count": null,
   "metadata": {},
   "outputs": [],
   "source": [
    "#| export\n",
    "\n",
    "def get_UMI_genotype(fastq_path: str, #path to the input fastq file\n",
    "                     ref_seq: str, #sequence of the reference amplicon\n",
    "                     umi_size: int = 10, #number of nucleotides at the begining of the read that will be used as the UMI\n",
    "                     quality_threshold: int = 30, #threshold value used to filter out reads of poor average quality\n",
    "                     ignore_pos: list = [], #list of positions that are ignored in the genotype\n",
    "                     **kwargs #alignment parameters can be passed here (match, mismatch, gap_open, gap_extend)\n",
    "                     ) -> dict:\n",
    "    \n",
    "    \"\"\"Takes as input a fastq_file of single read amplicon sequencing, and a reference amplicon sequence.\n",
    "       Returns a dictionnary containing as keys UMIs and as values a Counter of all genotype strings read for that UMI.\n",
    "    \"\"\"\n",
    "    align_param={\"match\":2,\n",
    "                 \"mismatch\":-1, \n",
    "                 \"gap_open\":-1, \n",
    "                 \"gap_extend\":-.5,\n",
    "                 }\n",
    "    \n",
    "    for arg in kwargs:\n",
    "        if arg in align_param:\n",
    "            align_param[arg]=kwargs[arg]\n",
    "\n",
    "    with gz.open(fastq_path,'rt') as handle:\n",
    "        reads=SeqIO.parse(handle,\"fastq\")\n",
    "        n_reads=0\n",
    "        n_reads_pass_Qfilter=0\n",
    "        n_reads_aligned=0\n",
    "        UMI_dict=defaultdict(list,{})\n",
    "        for r in reads:\n",
    "            n_reads+=1\n",
    "            meanScore=np.mean(r.letter_annotations['phred_quality'])\n",
    "\n",
    "            if meanScore>quality_threshold:\n",
    "                n_reads_pass_Qfilter+=1\n",
    "                umi=str(r.seq[:umi_size])\n",
    "                mutations=get_mutations(ref_seq,r.seq[umi_size:], **align_param)\n",
    "                if ignore_pos:\n",
    "                    mutations = [m for m in mutations if m[1] not in ignore_pos]\n",
    "                n_mut=len(mutations)\n",
    "                if n_mut<15: #more than 10 mutation is almost certainly crap\n",
    "                    n_reads_aligned+=1\n",
    "                    UMI_dict[umi].append(mut_to_str(mutations))\n",
    "    \n",
    "    log='n reads:\\t{}\\nn_reads pass filter:\\t{}\\nn_reads aligned:\\t{}\\n'.format(n_reads,n_reads_pass_Qfilter,n_reads_aligned)\n",
    "    log+=f\"Number of UMIs: {len(UMI_dict)}\\n\"\n",
    "    \n",
    "    UMI_gencounter={}\n",
    "    umi_readcounts=[]\n",
    "    for umi in UMI_dict:\n",
    "        umi_readcounts.append(len(UMI_dict[umi]))\n",
    "        UMI_gencounter[umi]=Counter(UMI_dict[umi])\n",
    "\n",
    "    log+=f\"Median number of reads per UMI: {np.median(umi_readcounts)}\"\n",
    "    print(log)\n",
    "    return UMI_gencounter"
   ]
  },
  {
   "cell_type": "code",
   "execution_count": null,
   "metadata": {},
   "outputs": [
    {
     "name": "stdout",
     "output_type": "stream",
     "text": [
      "n reads:\t1000\n",
      "n_reads pass filter:\t847\n",
      "n_reads aligned:\t824\n",
      "Number of UMIs: 814\n",
      "Median number of reads per UMI: 1.0\n",
      "GCATANCTCA [('A61G,-63T,A76T,A91T', 1)]\n",
      "CGCATNTATA [('', 1)]\n",
      "CCTTGNAGTA [('', 1)]\n",
      "GGCGCNAGAA [('', 1)]\n",
      "TCTCTTGTGA [('', 1)]\n",
      "ATTACAGAAT [('', 1)]\n",
      "CTTTTACTAT [('', 1)]\n",
      "TCAAAGTTTT [('A79T,A91G', 1)]\n",
      "TTAGCTCATA [('', 1)]\n",
      "TCATAATGTA [('', 1)]\n",
      "ATGTGCGGAT [('', 1)]\n",
      "TGTGTTTATA [('', 1)]\n",
      "CCATACATCC [('', 1)]\n",
      "AGGGACGTTT [('A61G,A72G,A76G,A79T', 1)]\n",
      "GTGTAATAGC [('', 1)]\n",
      "ATGTCTTTTA [('', 1)]\n",
      "TATCGGTAGT [('', 1)]\n",
      "GTCGGGGGGG [('', 1)]\n",
      "AAGTGGCACA [('', 1)]\n",
      "AATAGAACCT [('T108A,G127T,G132T', 1)]\n"
     ]
    }
   ],
   "source": [
    "fastq_file=\"sacB_example.fastq.gz\"\n",
    "fastq_path=os.path.join(data_path,fastq_file)\n",
    "\n",
    "read_ref_file=\"sacB_ref.fasta\"\n",
    "ref=next(SeqIO.parse(os.path.join(data_path,read_ref_file),\"fasta\"))\n",
    "ref_seq=str(ref.seq)\n",
    "\n",
    "UMI_gencounter = get_UMI_genotype(fastq_path, ref_seq, ignore_pos=[0,1,2,138,139,140,141], gap_open=-5)\n",
    "\n",
    "for umi in itertools.islice(UMI_gencounter,20):\n",
    "    print(umi, list(UMI_gencounter[umi].items()))"
   ]
  },
  {
   "cell_type": "code",
   "execution_count": null,
   "metadata": {},
   "outputs": [],
   "source": [
    "#| export\n",
    "\n",
    "def correct_UMI_genotypes(UMI_gencounter: dict, #the output of the get_UMI_genotype function\n",
    "                          reads_per_umi_thr=2 #only assign a genotype to a UMI if we have reads_per_umi_thr reads for that genotype or more\n",
    "                          ) -> dict:\n",
    "    \"\"\"Keeps only the genotype with the most reads for each UMI.\n",
    "    Returns a dictionary with UMIs as keys and a tuple as value: (genotype string, number of reads)\n",
    "    \"\"\"\n",
    "    UMI_gen_dict={}\n",
    "    for umi in UMI_gencounter:\n",
    "        gen, n =UMI_gencounter[umi].most_common(1)[0]\n",
    "        if n>=reads_per_umi_thr: #only assign a genotype to a UMI if we have reads_per_umi_thr reads for that genotype or more\n",
    "            UMI_gen_dict[umi]=gen\n",
    "\n",
    "    return UMI_gen_dict"
   ]
  },
  {
   "cell_type": "code",
   "execution_count": null,
   "metadata": {},
   "outputs": [
    {
     "data": {
      "text/plain": [
       "{'CTCCGGGGAG': '',\n",
       " 'TGCTTGAGTG': 'A79T',\n",
       " 'AGGGCGGGCT': '',\n",
       " 'ATTTCTGTTT': '',\n",
       " 'TGGGGGGGCT': '',\n",
       " 'GATTGGTAGA': '',\n",
       " 'GAACTCTAGT': '',\n",
       " 'TAACTAATCG': 'A79G,A86G,A91G'}"
      ]
     },
     "execution_count": null,
     "metadata": {},
     "output_type": "execute_result"
    }
   ],
   "source": [
    "correct_UMI_genotypes(UMI_gencounter)"
   ]
  },
  {
   "cell_type": "code",
   "execution_count": null,
   "metadata": {},
   "outputs": [],
   "source": [
    "#| export\n",
    "\n",
    "def genotype_UMI_counter(UMI_gen_dict):\n",
    "    \"\"\"Takes as input the output of correct_UMI_genotypes() and \n",
    "    returns a list of genotypes sorted by the number of UMIs detected corresponding that each genotype.\"\"\"\n",
    "    umi_counter=Counter(UMI_gen_dict.values())\n",
    "    gen_sorted_list=sorted(list(umi_counter.items()),key=lambda x: x[1], reverse=True)\n",
    "    return gen_sorted_list\n"
   ]
  },
  {
   "cell_type": "code",
   "execution_count": null,
   "metadata": {},
   "outputs": [
    {
     "name": "stdout",
     "output_type": "stream",
     "text": [
      "675\t\n",
      "3\tC56A\n",
      "3\tA76G\n",
      "3\tA91G\n",
      "3\tA91T\n",
      "2\tC69T\n",
      "2\tT122A\n",
      "2\tA91C\n",
      "2\tA105G\n",
      "2\tC116A\n",
      "2\tT60A\n",
      "2\tT59A\n",
      "2\tA68G\n",
      "2\tT134A\n",
      "1\tA61G,-63T,A76T,A91T\n",
      "1\tA79T,A91G\n",
      "1\tA61G,A72G,A76G,A79T\n",
      "1\tT108A,G127T,G132T\n",
      "1\tA48T,A86G\n",
      "1\tA61T,A68T,A72G,A79C,A91G\n"
     ]
    }
   ],
   "source": [
    "UMI_gen_dict=correct_UMI_genotypes(UMI_gencounter, reads_per_umi_thr=0)\n",
    "gen_list = genotype_UMI_counter(UMI_gen_dict)\n",
    "for g in gen_list[:20]:\n",
    "    print(f\"{g[1]}\\t{g[0]}\")"
   ]
  },
  {
   "cell_type": "code",
   "execution_count": null,
   "metadata": {},
   "outputs": [],
   "source": [
    "#| export\n",
    "\n",
    "def get_genotypes(fastq_path: str, #path to the input fastq file\n",
    "                    ref_seq: str, #sequence of the reference amplicon\n",
    "                    umi_size: int = 10, #number of nucleotides at the begining of the read that will be used as the UMI\n",
    "                    quality_threshold: int = 30, #threshold value used to filter out reads of poor average quality\n",
    "                    ignore_pos: list = [], #list of positions that are ignored in the genotype\n",
    "                    reads_per_umi_thr: int = 0, #minimum number of reads required to take a UMI into account. Using a number >2 enables to perform error correction for UMIs with multiple reads.\n",
    "                    save_umi_data: str = None, #path to the csv file where to save the details of the genotypes reads for each UMI. If None the data isn't saved.\n",
    "                    **kwargs, #alignment parameters can be passed here (match, mismatch, gap_open, gap_extend)\n",
    "                    ):\n",
    "    \"\"\"Putting things together in a single wrapper function that takes the fastq as input and returns the list of genotypes.\"\"\"\n",
    "    UMI_dict = get_UMI_genotype(fastq_path, ref_seq, umi_size, quality_threshold, ignore_pos, **kwargs)\n",
    "    if save_umi_data:\n",
    "        with open(save_umi_data,\"w\", newline='') as handle: \n",
    "            csv_writer = csv.writer(handle,delimiter=\"\\t\",doublequote=False)\n",
    "            for umi in itertools.islice(UMI_dict,20):\n",
    "                csv_writer.writerow([umi,list(UMI_dict[umi].items())])\n",
    "\n",
    "    UMI_gen_dict=correct_UMI_genotypes(UMI_dict, reads_per_umi_thr)\n",
    "    gen_list = genotype_UMI_counter(UMI_gen_dict)\n",
    "    print(\"Number of genotypes:\", len(gen_list))\n",
    "    return gen_list\n",
    "    "
   ]
  },
  {
   "cell_type": "code",
   "execution_count": null,
   "metadata": {},
   "outputs": [
    {
     "name": "stdout",
     "output_type": "stream",
     "text": [
      "n reads:\t1000\n",
      "n_reads pass filter:\t847\n",
      "n_reads aligned:\t824\n",
      "Number of UMIs: 814\n",
      "Median number of reads per UMI: 1.0\n",
      "Number of genotypes: 123\n",
      "675\t\n",
      "3\tC56A\n",
      "3\tA76G\n",
      "3\tA91G\n",
      "3\tA91T\n",
      "2\tC69T\n",
      "2\tT122A\n",
      "2\tA91C\n",
      "2\tA105G\n",
      "2\tC116A\n",
      "2\tT60A\n",
      "2\tT59A\n",
      "2\tA68G\n",
      "2\tT134A\n",
      "1\tA61G,-63T,A76T,A91T\n",
      "1\tA79T,A91G\n",
      "1\tA61G,A72G,A76G,A79T\n",
      "1\tT108A,G127T,G132T\n",
      "1\tA48T,A86G\n",
      "1\tA61T,A68T,A72G,A79C,A91G\n"
     ]
    }
   ],
   "source": [
    "fastq_file=\"sacB_example.fastq.gz\"\n",
    "fastq_path=os.path.join(data_path,fastq_file)\n",
    "read_ref_file=\"sacB_ref.fasta\"\n",
    "ref=next(SeqIO.parse(os.path.join(data_path,read_ref_file),\"fasta\"))\n",
    "ref_seq=str(ref.seq)\n",
    "gen_list = get_genotypes(fastq_path, ref_seq, \n",
    "                         ignore_pos=[0,1,2,138,139,140,141],\n",
    "                         gap_open=-4, \n",
    "                         save_umi_data=\"test.csv\")\n",
    "for g in gen_list[:20]:\n",
    "    print(f\"{g[1]}\\t{g[0]}\")"
   ]
  },
  {
   "cell_type": "code",
   "execution_count": null,
   "metadata": {},
   "outputs": [],
   "source": [
    "#| hide\n",
    "import nbdev; nbdev.nbdev_export()"
   ]
  }
 ],
 "metadata": {
  "kernelspec": {
   "display_name": "python3",
   "language": "python",
   "name": "python3"
  }
 },
 "nbformat": 4,
 "nbformat_minor": 4
}
