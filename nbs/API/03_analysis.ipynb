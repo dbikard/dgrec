{
 "cells": [
  {
   "cell_type": "markdown",
   "metadata": {},
   "source": [
    "# analysis"
   ]
  },
  {
   "cell_type": "code",
   "execution_count": null,
   "metadata": {},
   "outputs": [],
   "source": [
    "#| default_exp analysis"
   ]
  },
  {
   "cell_type": "code",
   "execution_count": null,
   "metadata": {},
   "outputs": [],
   "source": [
    "#| export\n",
    "from dgrec.utils import parse_genotypes, str_to_mut\n",
    "import os\n",
    "import numpy as np\n",
    "from Bio import SeqIO\n",
    "import matplotlib.pyplot as plt"
   ]
  },
  {
   "cell_type": "code",
   "execution_count": null,
   "metadata": {},
   "outputs": [],
   "source": [
    "from dgrec.example_data import get_example_data_dir"
   ]
  },
  {
   "cell_type": "code",
   "execution_count": null,
   "metadata": {},
   "outputs": [],
   "source": [
    "#| export\n",
    "bases=list(\"ATGC\")\n",
    "def mut_rate(gen_list:list, #a genotype list with the number of molecules detected\n",
    "             ran:tuple, #the position range in which to compute the mutation rate. If None the rate is computed for the full sequence.\n",
    "             ref_seq:str, #reference sequence\n",
    "             ):\n",
    "    \"\"\"Computes the mutation rate per base within the specified range. The rate can be computed for specific bases using the base_restriction argument.\"\"\"\n",
    "    mut_pileup=np.zeros(len(ref_seq))\n",
    "    nTOT = 0\n",
    "    for g, n in gen_list:\n",
    "        nTOT += n\n",
    "        gens = str_to_mut(g)\n",
    "        for m in gens:\n",
    "            mut_pileup[m[1]]+=n\n",
    "\n",
    "    mut_pileup=mut_pileup/nTOT\n",
    "\n",
    "    mut_n_per_base={}\n",
    "    for b in bases:\n",
    "        b_pos= np.where((np.array(list(ref_seq))==b) & \n",
    "                (np.arange(len(ref_seq))>ran[0]) & \n",
    "                (np.arange(len(ref_seq))<ran[1]))\n",
    "        mut_n_per_base[b]=mut_pileup[b_pos].mean()\n",
    "\n",
    "    mut_n_per_base[\"all\"]=mut_pileup[ran[0]:ran[1]].mean()\n",
    "\n",
    "    return mut_n_per_base\n",
    "        "
   ]
  },
  {
   "cell_type": "code",
   "execution_count": null,
   "metadata": {},
   "outputs": [
    {
     "name": "stdout",
     "output_type": "stream",
     "text": [
      "279 \t A91G\n",
      "28 \t A68C\n",
      "15 \t A72G,A79T,A91T\n",
      "10 \t A61G,A72G\n",
      "6 \t A61G,A68G\n",
      "6 \t A68G,A76G,A91G\n",
      "5 \t A61T,A79G\n",
      "4 \t A86T\n",
      "4 \t A72G,A76G,A86G,A91T\n",
      "3 \t A61T,A76G,A91G\n"
     ]
    }
   ],
   "source": [
    "data_path=get_example_data_dir()\n",
    "gen_list=parse_genotypes(os.path.join(data_path,\"sacB_genotypes.csv\"))\n",
    "\n",
    "read_ref_file=\"sacB_ref.fasta\"\n",
    "ref=next(SeqIO.parse(os.path.join(data_path,read_ref_file),\"fasta\"))\n",
    "ref_seq=str(ref.seq)\n",
    "\n",
    "#showing a few example lines\n",
    "for g,n in gen_list[1:200:20]:\n",
    "    print(n,\"\\t\",g)"
   ]
  },
  {
   "cell_type": "code",
   "execution_count": null,
   "metadata": {},
   "outputs": [
    {
     "name": "stdout",
     "output_type": "stream",
     "text": [
      "Mutation rate in VR at A positions: 1.9e-02\n",
      "Mutation rate in VR at T positions: 9.9e-04\n",
      "Mutation rate in VR at G positions: 1.1e-04\n",
      "Mutation rate in VR at C positions: 2.2e-04\n",
      "Mutation rate in VR at all positions: 2.9e-03\n",
      "Mutation rate outside VR at A positions: 2.1e-05\n",
      "Mutation rate outside VR at T positions: 4.8e-05\n",
      "Mutation rate outside VR at G positions: 1.8e-04\n",
      "Mutation rate outside VR at C positions: 5.9e-05\n",
      "Mutation rate outside VR at all positions: 6.7e-05\n"
     ]
    }
   ],
   "source": [
    "TR_range=(50,119)\n",
    "before_TR_range=(5,50)\n",
    "mut_rate_TR=mut_rate(gen_list,TR_range,ref_seq)\n",
    "for b in mut_rate_TR:\n",
    "    print(f\"Mutation rate in VR at {b} positions: {mut_rate_TR[b]:.1e}\")\n",
    "\n",
    "mut_rate_outside_TR=mut_rate(gen_list,before_TR_range,ref_seq)\n",
    "for b in mut_rate_outside_TR:\n",
    "    print(f\"Mutation rate outside VR at {b} positions: {mut_rate_outside_TR[b]:.1e}\")\n"
   ]
  },
  {
   "cell_type": "code",
   "execution_count": null,
   "metadata": {},
   "outputs": [],
   "source": [
    "#| hide\n",
    "import nbdev; nbdev.nbdev_export()"
   ]
  }
 ],
 "metadata": {
  "kernelspec": {
   "display_name": "Python 3 (ipykernel)",
   "language": "python",
   "name": "python3"
  },
  "language_info": {
   "codemirror_mode": {
    "name": "ipython",
    "version": 3
   },
   "file_extension": ".py",
   "mimetype": "text/x-python",
   "name": "python",
   "nbconvert_exporter": "python",
   "pygments_lexer": "ipython3",
   "version": "3.12.8"
  }
 },
 "nbformat": 4,
 "nbformat_minor": 4
}
