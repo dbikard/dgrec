{
 "cells": [
  {
   "cell_type": "markdown",
   "metadata": {},
   "source": [
    "# encoding\n",
    "\n",
    "> We define all the usefull functions to encode the TR sequence as an imput for the predictive model"
   ]
  },
  {
   "cell_type": "code",
   "execution_count": null,
   "metadata": {},
   "outputs": [],
   "source": [
    "#| default_exp encoding"
   ]
  },
  {
   "cell_type": "code",
   "execution_count": null,
   "metadata": {},
   "outputs": [],
   "source": [
    "# | export\n",
    "import ViennaRNA as RNA\n",
    "import numpy as np\n",
    "from tqdm import tqdm\n"
   ]
  },
  {
   "cell_type": "code",
   "execution_count": null,
   "metadata": {},
   "outputs": [],
   "source": [
    "#| export\n",
    "\n",
    "def base_pairing_probability_array(sequence: str, #DNA sequence\n",
    "                              ):\n",
    "                              \n",
    "    \"\"\"Calculates the probability pairing array for a given DNA sequence\"\"\"\n",
    "\n",
    "    # Convert DNA sequence to RNA (replace T with U)\n",
    "    rna_seq = sequence.replace('T', 'U')\n",
    "\n",
    "    # Perform RNA folding using ViennaRNA library\n",
    "    (propensity, ensemble_energy) = RNA.pf_fold(rna_seq)\n",
    "\n",
    "    # Create a square array with dimensions equal to the sequence length\n",
    "    size = len(sequence)\n",
    "    array = np.zeros((size, size), dtype=np.float16)  # Empty array for probabilities\n",
    "\n",
    "    # Fill the array with pairing probabilities using RNA.get_pr()\n",
    "    for i in range(size):\n",
    "        for j in range(size):\n",
    "            array[i, j] = RNA.get_pr(i + 1, j + 1) \n",
    "\n",
    "    # Round probabilities to 4 decimal places\n",
    "    return np.round(array, decimals=4)\n"
   ]
  },
  {
   "cell_type": "code",
   "execution_count": null,
   "metadata": {},
   "outputs": [
    {
     "data": {
      "text/plain": [
       "True"
      ]
     },
     "execution_count": null,
     "metadata": {},
     "output_type": "execute_result"
    }
   ],
   "source": [
    "#| hide\n",
    "bppa=base_pairing_probability_array('ATCCCGGCAGC')\n",
    "np.all(bppa==np.array([[0.    , 0.    , 0.    , 0.    , 0.    , 0.    , 0.    , 0.    ,\n",
    "        0.    , 0.    , 0.    ],\n",
    "       [0.    , 0.    , 0.    , 0.    , 0.    , 0.0001, 0.0002, 0.    ,\n",
    "        0.0003, 0.0001, 0.    ],\n",
    "       [0.    , 0.    , 0.    , 0.    , 0.    , 0.    , 0.0004, 0.    ,\n",
    "        0.    , 0.0017, 0.    ],\n",
    "       [0.    , 0.    , 0.    , 0.    , 0.    , 0.    , 0.    , 0.    ,\n",
    "        0.    , 0.0015, 0.    ],\n",
    "       [0.    , 0.    , 0.    , 0.    , 0.    , 0.    , 0.    , 0.    ,\n",
    "        0.    , 0.0144, 0.    ],\n",
    "       [0.    , 0.0001, 0.    , 0.    , 0.    , 0.    , 0.    , 0.    ,\n",
    "        0.    , 0.    , 0.0064],\n",
    "       [0.    , 0.0002, 0.0004, 0.    , 0.    , 0.    , 0.    , 0.    ,\n",
    "        0.    , 0.    , 0.0002],\n",
    "       [0.    , 0.    , 0.    , 0.    , 0.    , 0.    , 0.    , 0.    ,\n",
    "        0.    , 0.    , 0.    ],\n",
    "       [0.    , 0.0003, 0.    , 0.    , 0.    , 0.    , 0.    , 0.    ,\n",
    "        0.    , 0.    , 0.    ],\n",
    "       [0.    , 0.0001, 0.0017, 0.0015, 0.0144, 0.    , 0.    , 0.    ,\n",
    "        0.    , 0.    , 0.    ],\n",
    "       [0.    , 0.    , 0.    , 0.    , 0.    , 0.0064, 0.0002, 0.    ,\n",
    "        0.    , 0.    , 0.    ]], dtype=np.float16))"
   ]
  },
  {
   "cell_type": "code",
   "execution_count": null,
   "metadata": {},
   "outputs": [],
   "source": [
    "#| export\n",
    "def base_pairing_probability_max_mean_std(sequence: str, #DNA sequence\n",
    "                                       ):\n",
    "    \"\"\"\n",
    "    Calculates summary statistics for the base pair probabilities of an DNA sequence.\n",
    "    \"\"\"\n",
    "\n",
    "    # Calculate the probability pairing array using the provided function\n",
    "    proba_array = base_pairing_probability_array(sequence)\n",
    "\n",
    "    # Check if the dimensions of the pairing array and sequence match\n",
    "    size_1 = len(proba_array)\n",
    "    size_2 = len(sequence)\n",
    "    if size_1 != size_2:\n",
    "        raise ValueError(\"Dimensions of probability array and sequence mismatch!\")\n",
    "\n",
    "    # Create a new array to store summary statistics\n",
    "    proba_array_summary = np.zeros((size_1, 3))\n",
    "\n",
    "    # Calculate and store maximum probability for each position\n",
    "    for k in range(size_1):\n",
    "        proba_array_summary[k, 0] = np.max(proba_array[k])\n",
    "\n",
    "    # Calculate and store mean probability for each position\n",
    "        proba_array_summary[k, 1] = np.mean(proba_array[k])\n",
    "\n",
    "    # Calculate and store standard deviation for each position\n",
    "        proba_array_summary[k, 2] = np.std(proba_array[k])\n",
    "\n",
    "    # Return the array of summary statistics\n",
    "    return np.round(proba_array_summary,decimals=10)\n"
   ]
  },
  {
   "cell_type": "code",
   "execution_count": null,
   "metadata": {},
   "outputs": [
    {
     "data": {
      "text/plain": [
       "True"
      ]
     },
     "execution_count": null,
     "metadata": {},
     "output_type": "execute_result"
    }
   ],
   "source": [
    "#| hide\n",
    "bppmms=base_pairing_probability_max_mean_std('ATCCCGGCAGC')\n",
    "np.all(bppmms==np.array([[0.00000000e+00, 0.00000000e+00, 0.00000000e+00],\n",
    "       [2.99930600e-04, 6.36578000e-05, 0.00000000e+00],\n",
    "       [1.70040130e-03, 1.90973300e-04, 4.88281200e-04],\n",
    "       [1.50012970e-03, 1.36375400e-04, 4.22954600e-04],\n",
    "       [1.43966675e-02, 1.30844120e-03, 4.14276120e-03],\n",
    "       [6.40106200e-03, 5.90801200e-04, 1.84345250e-03],\n",
    "       [4.00066400e-04, 7.27177000e-05, 0.00000000e+00],\n",
    "       [0.00000000e+00, 0.00000000e+00, 0.00000000e+00],\n",
    "       [2.99930600e-04, 2.72393000e-05, 0.00000000e+00],\n",
    "       [1.43966675e-02, 1.60884860e-03, 4.08554080e-03],\n",
    "       [6.40106200e-03, 5.99861100e-04, 1.84345250e-03]]))"
   ]
  },
  {
   "cell_type": "code",
   "execution_count": null,
   "metadata": {},
   "outputs": [],
   "source": [
    "# |export\n",
    "def encoding_RNA_pairing(sequence_list:str #list of DNA sequences of TRs\n",
    "                                        ):\n",
    "    \"\"\"\n",
    "    Encodes a list DNA sequences based on base pair probability statistics.\n",
    "    The DNA sequence here correspond to  20 bases of Avd + the TR sequence + 50/100/150 bases of the DGR spacer\n",
    "    The encoding is independent of the TR length\n",
    "    \"\"\"\n",
    "\n",
    "    encoding_list = []  # List to store encoded sequences\n",
    "    Avd_seq='aagggcaggctgggaaATAA'.upper()\n",
    "    DGR_spacer='tctgtgcccatcaccttcttgcatggctctgccaacgctacggcttggcgggctggcctttcctcaataggtggtcagccggttctgtcctgcttcggcgaacacgttacacggttcggcaaaacgtcgattactgaaaatggaaaggcggggccgacttc'.upper()\n",
    "\n",
    "    for sequence in tqdm(sequence_list):\n",
    "        # Define spacer lengths \n",
    "        spacer_lengths = [50, 100, 150]\n",
    "\n",
    "        # Get transcript length\n",
    "        tr_length = len(sequence)\n",
    "\n",
    "        # Iterate through spacer lengths\n",
    "        for k in spacer_lengths:\n",
    "            # Construct sequence with spacer\n",
    "            sequence_k = Avd_seq + sequence + DGR_spacer[:k]  # Replace with actual sequences\n",
    "\n",
    "            # Calculate base pair probability statistics\n",
    "            bppmms_k = base_pairing_probability_max_mean_std(sequence_k)\n",
    "\n",
    "            # Extract statistics for Avd region\n",
    "            bppmms_avd = bppmms_k[:20, :] \n",
    "\n",
    "            # Extract statistics for TR region (split into 10 parts)\n",
    "            bppmms_tr = bppmms_k[20:20 + tr_length, :]\n",
    "            bppmms_tr_split = np.array_split(bppmms_tr, 10, axis=0)  # Split into 10 parts\n",
    "            bppmms_tr_mean = np.array([np.mean(k, axis=0) for k in bppmms_tr_split])  # Mean of each split\n",
    "\n",
    "            # Extract statistics for spacer region\n",
    "            bppmms_spacer = bppmms_k[20 + tr_length:, :]  # Adjust slice based on spacer region size\n",
    "\n",
    "            # Merge statistics for different regions\n",
    "            bppmms_merged = np.concatenate([bppmms_avd, bppmms_tr_mean, bppmms_spacer], axis=0)\n",
    "\n",
    "            # Concatenate encodings for different spacer lengths (if applicable)\n",
    "            if k != spacer_lengths[0]:\n",
    "                bppmms_concat = np.concatenate([bppmms_concat, bppmms_merged], axis=0)\n",
    "            else:\n",
    "                bppmms_concat = bppmms_merged\n",
    "\n",
    "        # Append encoding for the current sequence\n",
    "        encoding_list.append(bppmms_concat)\n",
    "\n",
    "    # Convert to numpy array for efficient processing\n",
    "    return np.array(encoding_list)\n"
   ]
  },
  {
   "cell_type": "code",
   "execution_count": null,
   "metadata": {},
   "outputs": [
    {
     "name": "stderr",
     "output_type": "stream",
     "text": [
      "  0%|          | 0/1 [00:00<?, ?it/s]"
     ]
    },
    {
     "name": "stderr",
     "output_type": "stream",
     "text": [
      "100%|██████████| 1/1 [00:00<00:00,  7.75it/s]\n"
     ]
    }
   ],
   "source": [
    "# |hide\n",
    "emmstsi=encoding_RNA_pairing(['ATCCCGGCAGC'])"
   ]
  },
  {
   "cell_type": "code",
   "execution_count": null,
   "metadata": {},
   "outputs": [],
   "source": [
    "# |export\n",
    "def bases_frequency(sequence:str #The DNAsequence as a string\n",
    "                     ):\n",
    "    \"\"\"\n",
    "    Calculates the normalized frequency of each base in a given sequence.\n",
    "    \"\"\"\n",
    "\n",
    "    # Initialize an array to store base counts\n",
    "    count_normalized = np.zeros(4)\n",
    "\n",
    "    # Define a list of bases\n",
    "    base_list = ['A', 'C', 'G', 'T']\n",
    "\n",
    "    # Count occurrences of each base in the sequence\n",
    "    for k in range(len(base_list)):\n",
    "        count_normalized[k] = sequence.count(base_list[k]) / len(sequence) # Normalize counts to represent frequencies between 0 and 1\n",
    "    \n",
    "    return np.round(count_normalized,decimals=4)"
   ]
  },
  {
   "cell_type": "code",
   "execution_count": null,
   "metadata": {},
   "outputs": [
    {
     "data": {
      "text/plain": [
       "array([0.1818, 0.4545, 0.2727, 0.0909])"
      ]
     },
     "execution_count": null,
     "metadata": {},
     "output_type": "execute_result"
    }
   ],
   "source": [
    "bases_frequency('ATCCCGGCAGC')"
   ]
  },
  {
   "cell_type": "code",
   "execution_count": null,
   "metadata": {},
   "outputs": [],
   "source": [
    "# |export\n",
    "def base_before_after_A(sequence:str #The DNAsequence as a string.\n",
    "                       ):\n",
    "    \"\"\"\n",
    "    Counts the occurrences of each base before and after each 'A' base in a sequence.\n",
    "    \"\"\"\n",
    "\n",
    "    # Initialize arrays to store counts\n",
    "    list_before = np.zeros(4, dtype=int)  \n",
    "    list_after = np.zeros(4, dtype=int)\n",
    "    base_list = ['A', 'C', 'G', 'T']  \n",
    "    \n",
    "    # Iterate through each base in the sequence\n",
    "    for k in range(len(sequence)):\n",
    "        # Check if the current base is an 'A'\n",
    "        if sequence[k] == 'A':\n",
    "            # Handle edge cases: first and last base\n",
    "            if k == 0:  # First base is an 'A'\n",
    "                list_before[0] += 1  # 'A' itself doesn't have a base before\n",
    "                for j in range(len(base_list)):\n",
    "                    if k + 1 < len(sequence) and sequence[k + 1] == base_list[j]:\n",
    "                        list_after[j] += 1\n",
    "            elif k == len(sequence) - 1:  # Last base is an 'A'\n",
    "                list_after[3] += 1  # 'A' itself doesn't have a base after\n",
    "                for j in range(len(base_list)):\n",
    "                    if k - 1 >= 0 and sequence[k - 1] == base_list[j]:\n",
    "                        list_before[j] += 1\n",
    "            else:  # Middle base is an 'A'\n",
    "                for j in range(len(base_list)):\n",
    "                    if k - 1 >= 0 and sequence[k - 1] == base_list[j]:\n",
    "                        list_before[j] += 1\n",
    "                    if k + 1 < len(sequence) and sequence[k + 1] == base_list[j]:\n",
    "                        list_after[j] += 1\n",
    "\n",
    "    # Combine and return the counts as a numpy array\n",
    "    return np.concatenate([list_before, list_after])"
   ]
  },
  {
   "cell_type": "code",
   "execution_count": null,
   "metadata": {},
   "outputs": [
    {
     "data": {
      "text/plain": [
       "array([1, 1, 0, 0, 0, 0, 1, 1])"
      ]
     },
     "execution_count": null,
     "metadata": {},
     "output_type": "execute_result"
    }
   ],
   "source": [
    "base_before_after_A('ATCCCGGCAGC')"
   ]
  },
  {
   "cell_type": "code",
   "execution_count": null,
   "metadata": {},
   "outputs": [],
   "source": [
    "# |export\n",
    "def generate_dic_encode_two():\n",
    "    \"\"\"\n",
    "    Creates a dictionary encoding each dinucleotide with a one-hot encoded vector.\n",
    "    \"\"\"\n",
    "\n",
    "    base_list = ['A', 'C', 'G', 'T']  # DNA bases\n",
    "    dic_encode = {}  # Dictionary to store encodings\n",
    "    count = 0  # Index for one-hot vectors\n",
    "\n",
    "    # Iterate through all possible dinucleotide combinations\n",
    "    for i in range(len(base_list)):\n",
    "        for j in range(len(base_list)):\n",
    "            # Create a one-hot encoded vector with 16 elements\n",
    "            zero_list = [0] * 16\n",
    "\n",
    "            # Set the element corresponding to the dinucleotide index to 1\n",
    "            dinucleotide = base_list[i] + base_list[j]\n",
    "            zero_list[count] = 1\n",
    "\n",
    "            # Add the dinucleotide and its encoding to the dictionary\n",
    "            dic_encode[dinucleotide] = zero_list\n",
    "\n",
    "            # Increment the index for the next encoding\n",
    "            count += 1\n",
    "\n",
    "    return dic_encode\n"
   ]
  },
  {
   "cell_type": "code",
   "execution_count": null,
   "metadata": {},
   "outputs": [
    {
     "data": {
      "text/plain": [
       "{'AA': [1, 0, 0, 0, 0, 0, 0, 0, 0, 0, 0, 0, 0, 0, 0, 0],\n",
       " 'AC': [0, 1, 0, 0, 0, 0, 0, 0, 0, 0, 0, 0, 0, 0, 0, 0],\n",
       " 'AG': [0, 0, 1, 0, 0, 0, 0, 0, 0, 0, 0, 0, 0, 0, 0, 0],\n",
       " 'AT': [0, 0, 0, 1, 0, 0, 0, 0, 0, 0, 0, 0, 0, 0, 0, 0],\n",
       " 'CA': [0, 0, 0, 0, 1, 0, 0, 0, 0, 0, 0, 0, 0, 0, 0, 0],\n",
       " 'CC': [0, 0, 0, 0, 0, 1, 0, 0, 0, 0, 0, 0, 0, 0, 0, 0],\n",
       " 'CG': [0, 0, 0, 0, 0, 0, 1, 0, 0, 0, 0, 0, 0, 0, 0, 0],\n",
       " 'CT': [0, 0, 0, 0, 0, 0, 0, 1, 0, 0, 0, 0, 0, 0, 0, 0],\n",
       " 'GA': [0, 0, 0, 0, 0, 0, 0, 0, 1, 0, 0, 0, 0, 0, 0, 0],\n",
       " 'GC': [0, 0, 0, 0, 0, 0, 0, 0, 0, 1, 0, 0, 0, 0, 0, 0],\n",
       " 'GG': [0, 0, 0, 0, 0, 0, 0, 0, 0, 0, 1, 0, 0, 0, 0, 0],\n",
       " 'GT': [0, 0, 0, 0, 0, 0, 0, 0, 0, 0, 0, 1, 0, 0, 0, 0],\n",
       " 'TA': [0, 0, 0, 0, 0, 0, 0, 0, 0, 0, 0, 0, 1, 0, 0, 0],\n",
       " 'TC': [0, 0, 0, 0, 0, 0, 0, 0, 0, 0, 0, 0, 0, 1, 0, 0],\n",
       " 'TG': [0, 0, 0, 0, 0, 0, 0, 0, 0, 0, 0, 0, 0, 0, 1, 0],\n",
       " 'TT': [0, 0, 0, 0, 0, 0, 0, 0, 0, 0, 0, 0, 0, 0, 0, 1]}"
      ]
     },
     "execution_count": null,
     "metadata": {},
     "output_type": "execute_result"
    }
   ],
   "source": [
    "generate_dic_encode_two()"
   ]
  },
  {
   "cell_type": "code",
   "execution_count": null,
   "metadata": {},
   "outputs": [],
   "source": [
    "# |export\n",
    "def count_base_duo(sequence:str, #The input sequence to analyze\n",
    "                    base_duo:str #The two-base pattern to search for within the sequence\n",
    "                    ):\n",
    "   \"\"\"\n",
    "   Counts the number of times a specified base duo (two consecutive bases) appears within a given sequence.\n",
    "   \"\"\"\n",
    "\n",
    "   # Determine the length of the input sequence\n",
    "   seq_length = len(sequence)\n",
    "\n",
    "   # Initialize a counter to track the occurrences of the base duo\n",
    "   count = 0\n",
    "\n",
    "   # Iterate through the sequence, examining pairs of consecutive bases\n",
    "   for k in range(seq_length - 1):\n",
    "       # Check if the current base pair matches the target base duo\n",
    "       if sequence[k] + sequence[k + 1] == base_duo:\n",
    "           # If a match is found, increment the counter\n",
    "           count += 1\n",
    "\n",
    "   # Return the final count of base duo occurrences\n",
    "   return count\n"
   ]
  },
  {
   "cell_type": "code",
   "execution_count": null,
   "metadata": {},
   "outputs": [
    {
     "name": "stdout",
     "output_type": "stream",
     "text": [
      "AA 0\n",
      "AC 0\n",
      "AG 1\n",
      "AT 1\n",
      "CA 1\n",
      "CC 2\n",
      "CG 1\n",
      "CT 0\n",
      "GA 0\n",
      "GC 2\n",
      "GG 1\n",
      "GT 0\n",
      "TA 0\n",
      "TC 1\n",
      "TG 0\n",
      "TT 0\n"
     ]
    }
   ],
   "source": [
    "for duo in generate_dic_encode_two():\n",
    "    print (duo, count_base_duo('ATCCCGGCAGC',duo))"
   ]
  },
  {
   "cell_type": "code",
   "execution_count": null,
   "metadata": {},
   "outputs": [],
   "source": [
    "# |export\n",
    "def two_bases_frequency(sequence:str #The input sequence to analyze\n",
    "                        ):\n",
    "    \"\"\"\n",
    "    Calculates the relative frequency of each possible base duo (two consecutive bases) within a given sequence.\n",
    "    \"\"\"\n",
    "\n",
    "    # Initialize an empty dictionary to store base duo counts\n",
    "    count_normalized = {}\n",
    "\n",
    "    # Define a dictionary to encode base pairs as single characters\n",
    "    dic_encode = generate_dic_encode_two()  # Assuming this function exists and returns the encoding dictionary\n",
    "\n",
    "    # Iterate through each possible base duo in the encoding dictionary\n",
    "    for base_duo in dic_encode:\n",
    "\n",
    "        # Calculate the count of the current base duo using the count_base_duo function\n",
    "        count_normalized[base_duo] = count_base_duo(sequence, base_duo) / (len(sequence) - 1)\n",
    "\n",
    "        # Handle potential errors or edge cases\n",
    "        if count_normalized[base_duo] < 0:  # Ensure normalized frequencies are non-negative\n",
    "            raise ValueError(\"Negative frequency encountered. Check input sequence and encoding dictionary.\")\n",
    "\n",
    "    # Convert the dictionary of normalized frequencies into a NumPy array\n",
    "    count_normalized = np.array(list(count_normalized.values()))\n",
    "\n",
    "    # Return the NumPy array containing the base duo frequencies\n",
    "    return np.round(count_normalized,decimals=4)"
   ]
  },
  {
   "cell_type": "code",
   "execution_count": null,
   "metadata": {},
   "outputs": [
    {
     "data": {
      "text/plain": [
       "array([0. , 0. , 0.1, 0.1, 0.1, 0.2, 0.1, 0. , 0. , 0.2, 0.1, 0. , 0. ,\n",
       "       0.1, 0. , 0. ])"
      ]
     },
     "execution_count": null,
     "metadata": {},
     "output_type": "execute_result"
    }
   ],
   "source": [
    "two_bases_frequency('ATCCCGGCAGC')"
   ]
  },
  {
   "cell_type": "code",
   "execution_count": null,
   "metadata": {},
   "outputs": [],
   "source": [
    "# |export\n",
    "def encode_base_by_two(sequence:str # The input DNA sequence to encode.\n",
    "                       ):\n",
    "    \"\"\"\n",
    "    Encodes a DNA sequence by converting each base duo (two consecutive bases) into a one-hot encoded representation.\n",
    "    \"\"\"\n",
    "\n",
    "    # Define a list of possible DNA bases\n",
    "    base_list = ['A', 'C', 'G', 'T']\n",
    "\n",
    "    # Assume a function `generate_dic_encode_two()` exists that returns a dictionary mapping base duos to one-hot encodings\n",
    "    dic_encode = generate_dic_encode_two()\n",
    "\n",
    "    # Create a NumPy array with zeros to store the one-hot encodings (shape: sequence length x number of base duos)\n",
    "    base_encode_duo = np.zeros((len(sequence), 16))\n",
    "\n",
    "    # Iterate through each position in the sequence (except the last one)\n",
    "    for k in range(len(sequence) - 1):\n",
    "        # Extract the current base duo\n",
    "        base_duo = sequence[k] + sequence[k + 1]\n",
    "\n",
    "        # Check if the base duo exists in the encoding dictionary\n",
    "        if base_duo not in dic_encode:\n",
    "            raise ValueError(f\"Invalid base duo encountered: {base_duo}. Check input sequence and encoding dictionary.\")\n",
    "\n",
    "        # Get the one-hot encoding for the base duo and store it in the array\n",
    "        base_encode_duo[k] = dic_encode[base_duo]\n",
    "\n",
    "    # Handle the last base in the sequence (no duo available)\n",
    "    if len(sequence) > 0:\n",
    "        base_encode_duo[-1] = dic_encode[sequence[-1] + 'T']  # Encode with 'T' as the second base\n",
    "\n",
    "    # Split the encoded array into 10 chunks for calculating means\n",
    "    splitted_encoded_duo = np.array_split(base_encode_duo, 10)\n",
    "\n",
    "    # Calculate the mean of each base duo encoding across each chunk\n",
    "    mean_splitted_encoded_duo = np.array([np.mean(k, axis=0) for k in splitted_encoded_duo])\n",
    "\n",
    "    # Flatten the array to obtain a single 1D representation\n",
    "    return mean_splitted_encoded_duo.flatten()\n"
   ]
  },
  {
   "cell_type": "code",
   "execution_count": null,
   "metadata": {},
   "outputs": [
    {
     "data": {
      "text/plain": [
       "array([0. , 0. , 0. , 0.5, 0. , 0. , 0. , 0. , 0. , 0. , 0. , 0. , 0. ,\n",
       "       0.5, 0. , 0. , 0. , 0. , 0. , 0. , 0. , 1. , 0. , 0. , 0. , 0. ,\n",
       "       0. , 0. , 0. , 0. , 0. , 0. , 0. , 0. , 0. , 0. , 0. , 1. , 0. ,\n",
       "       0. , 0. , 0. , 0. , 0. , 0. , 0. , 0. , 0. , 0. , 0. , 0. , 0. ,\n",
       "       0. , 0. , 1. , 0. , 0. , 0. , 0. , 0. , 0. , 0. , 0. , 0. , 0. ,\n",
       "       0. , 0. , 0. , 0. , 0. , 0. , 0. , 0. , 0. , 1. , 0. , 0. , 0. ,\n",
       "       0. , 0. , 0. , 0. , 0. , 0. , 0. , 0. , 0. , 0. , 0. , 1. , 0. ,\n",
       "       0. , 0. , 0. , 0. , 0. , 0. , 0. , 0. , 0. , 1. , 0. , 0. , 0. ,\n",
       "       0. , 0. , 0. , 0. , 0. , 0. , 0. , 0. , 0. , 0. , 1. , 0. , 0. ,\n",
       "       0. , 0. , 0. , 0. , 0. , 0. , 0. , 0. , 0. , 0. , 0. , 0. , 0. ,\n",
       "       0. , 0. , 0. , 0. , 0. , 0. , 0. , 1. , 0. , 0. , 0. , 0. , 0. ,\n",
       "       0. , 0. , 0. , 0. , 0. , 0. , 0. , 0. , 1. , 0. , 0. , 0. , 0. ,\n",
       "       0. , 0. , 0. , 0. ])"
      ]
     },
     "execution_count": null,
     "metadata": {},
     "output_type": "execute_result"
    }
   ],
   "source": [
    "encode_base_by_two('ATCCCGGCAGC')"
   ]
  },
  {
   "cell_type": "code",
   "execution_count": null,
   "metadata": {},
   "outputs": [],
   "source": [
    "# |export\n",
    "def encoding_seq_feature(list_TRs: list # A list of DNA sequences (strings) to encode.\n",
    "                         ):\n",
    "    \"\"\"\n",
    "    Encodes a list of DNA sequences by combining various encoding methods.\n",
    "    \"\"\"\n",
    "\n",
    "    # Initialize an empty list to store the encoded features\n",
    "    new_features_encoded = []\n",
    "\n",
    "    # Iterate through each DNA sequence in the list\n",
    "    for TR in list_TRs:\n",
    "\n",
    "        # Calculate the base frequency features\n",
    "        encoded_feature = bases_frequency(TR) \n",
    "\n",
    "        # Calculate the base-before-after-A features\n",
    "        encoded_feature = np.concatenate((encoded_feature, base_before_after_A(TR)))  \n",
    "\n",
    "        # Encode the sequence using base duo representation\n",
    "        encoded_feature = np.concatenate((encoded_feature, encode_base_by_two(TR))) \n",
    "\n",
    "        # Append the encoded features for this sequence to the list\n",
    "        new_features_encoded.append(encoded_feature)\n",
    "\n",
    "    # Convert the list of encoded features into a NumPy array\n",
    "    return np.array(new_features_encoded)\n"
   ]
  },
  {
   "cell_type": "code",
   "execution_count": null,
   "metadata": {},
   "outputs": [
    {
     "data": {
      "text/plain": [
       "array([[0.1818, 0.4545, 0.2727, 0.0909, 1.    , 1.    , 0.    , 0.    ,\n",
       "        0.    , 0.    , 1.    , 1.    , 0.    , 0.    , 0.    , 0.5   ,\n",
       "        0.    , 0.    , 0.    , 0.    , 0.    , 0.    , 0.    , 0.    ,\n",
       "        0.    , 0.5   , 0.    , 0.    , 0.    , 0.    , 0.    , 0.    ,\n",
       "        0.    , 1.    , 0.    , 0.    , 0.    , 0.    , 0.    , 0.    ,\n",
       "        0.    , 0.    , 0.    , 0.    , 0.    , 0.    , 0.    , 0.    ,\n",
       "        0.    , 1.    , 0.    , 0.    , 0.    , 0.    , 0.    , 0.    ,\n",
       "        0.    , 0.    , 0.    , 0.    , 0.    , 0.    , 0.    , 0.    ,\n",
       "        0.    , 0.    , 1.    , 0.    , 0.    , 0.    , 0.    , 0.    ,\n",
       "        0.    , 0.    , 0.    , 0.    , 0.    , 0.    , 0.    , 0.    ,\n",
       "        0.    , 0.    , 0.    , 0.    , 0.    , 0.    , 1.    , 0.    ,\n",
       "        0.    , 0.    , 0.    , 0.    , 0.    , 0.    , 0.    , 0.    ,\n",
       "        0.    , 0.    , 0.    , 0.    , 0.    , 1.    , 0.    , 0.    ,\n",
       "        0.    , 0.    , 0.    , 0.    , 0.    , 0.    , 0.    , 0.    ,\n",
       "        1.    , 0.    , 0.    , 0.    , 0.    , 0.    , 0.    , 0.    ,\n",
       "        0.    , 0.    , 0.    , 0.    , 0.    , 0.    , 1.    , 0.    ,\n",
       "        0.    , 0.    , 0.    , 0.    , 0.    , 0.    , 0.    , 0.    ,\n",
       "        0.    , 0.    , 0.    , 0.    , 0.    , 0.    , 0.    , 0.    ,\n",
       "        0.    , 0.    , 0.    , 0.    , 0.    , 1.    , 0.    , 0.    ,\n",
       "        0.    , 0.    , 0.    , 0.    , 0.    , 0.    , 0.    , 0.    ,\n",
       "        0.    , 0.    , 0.    , 1.    , 0.    , 0.    , 0.    , 0.    ,\n",
       "        0.    , 0.    , 0.    , 0.    ]])"
      ]
     },
     "execution_count": null,
     "metadata": {},
     "output_type": "execute_result"
    }
   ],
   "source": [
    "# |hide \n",
    "encoding_seq_feature(['ATCCCGGCAGC'])"
   ]
  },
  {
   "cell_type": "code",
   "execution_count": null,
   "metadata": {},
   "outputs": [],
   "source": [
    "# |export\n",
    "def encode_tr_list(list_TRs:list ## A list of TRs DNA sequences (strings) to encode\n",
    "                   ):\n",
    "    \"Concatenate the two encoding (RNA pairing and DNA TR sequence encoding)\"\n",
    "    encode_pairing=encoding_RNA_pairing(list_TRs)\n",
    "    encode_pairing=encode_pairing.reshape((encode_pairing.shape[0],encode_pairing.shape[1]*encode_pairing.shape[2]))\n",
    "    encoding_new_features=encoding_seq_feature(list_TRs)\n",
    "    return np.concatenate((encode_pairing,encoding_new_features),axis=1)"
   ]
  }
 ],
 "metadata": {
  "kernelspec": {
   "display_name": "Python 3 (ipykernel)",
   "language": "python",
   "name": "python3"
  },
  "language_info": {
   "codemirror_mode": {
    "name": "ipython",
    "version": 3
   },
   "file_extension": ".py",
   "mimetype": "text/x-python",
   "name": "python",
   "nbconvert_exporter": "python",
   "pygments_lexer": "ipython3",
   "version": "3.12.8"
  }
 },
 "nbformat": 4,
 "nbformat_minor": 4
}
