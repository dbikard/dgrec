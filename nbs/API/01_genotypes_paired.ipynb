{
 "cells": [
  {
   "cell_type": "markdown",
   "metadata": {},
   "source": [
    "# genotypes_paired\n",
    "\n",
    "> Functions to go a fastq file to a list of genotypes"
   ]
  },
  {
   "cell_type": "code",
   "execution_count": null,
   "metadata": {},
   "outputs": [],
   "source": [
    "#| hide\n",
    "%load_ext autoreload\n",
    "%autoreload 2"
   ]
  },
  {
   "cell_type": "code",
   "execution_count": null,
   "metadata": {},
   "outputs": [],
   "source": [
    "#| default_exp genotypes_paired"
   ]
  },
  {
   "cell_type": "code",
   "execution_count": null,
   "metadata": {},
   "outputs": [],
   "source": [
    "#| hide\n",
    "from nbdev.showdoc import *\n"
   ]
  },
  {
   "cell_type": "code",
   "execution_count": null,
   "metadata": {},
   "outputs": [
    {
     "name": "stderr",
     "output_type": "stream",
     "text": [
      "/home/dbikard/anaconda3/envs/DGRec/lib/python3.11/site-packages/Bio/__init__.py:138: BiopythonWarning: You may be importing Biopython from inside the source tree. This is bad practice and might lead to downstream issues. In particular, you might encounter ImportErrors due to missing compiled C extensions. We recommend that you try running your code from outside the source tree. If you are outside the source tree then you have a setup.py file in an unexpected directory: /home/dbikard/anaconda3/envs/DGRec/lib/python3.11/site-packages\n",
      "  warnings.warn(\n"
     ]
    }
   ],
   "source": [
    "#| export\n",
    "from fastcore.basics import *\n",
    "from Bio import SeqIO\n",
    "import gzip as gz\n",
    "import os\n",
    "from collections import defaultdict, Counter\n",
    "import numpy as np\n",
    "import itertools\n",
    "import click\n",
    "import csv\n",
    "from dgrec.utils import get_mutations, mut_to_str\n",
    "from dgrec.genotypes import get_mutations, correct_UMI_genotypes, genotype_UMI_counter"
   ]
  },
  {
   "cell_type": "code",
   "execution_count": null,
   "metadata": {},
   "outputs": [],
   "source": [
    "#| hide\n",
    "from dgrec.example_data import get_example_data_dir"
   ]
  },
  {
   "cell_type": "code",
   "execution_count": null,
   "metadata": {},
   "outputs": [
    {
     "data": {
      "text/plain": [
       "['paired_example1_R2.fastq.gz',\n",
       " 'sacB_genotypes.csv',\n",
       " 'sacB_ref.fasta',\n",
       " '__pycache__',\n",
       " 'model_mms_2024_02_14.pickle',\n",
       " 'sacB_example.fastq.gz',\n",
       " 'example1_ref.fasta',\n",
       " 'paired_example1_R1.fastq.gz',\n",
       " '__init__.py']"
      ]
     },
     "execution_count": null,
     "metadata": {},
     "output_type": "execute_result"
    }
   ],
   "source": [
    "#| hide\n",
    "data_path=get_example_data_dir()\n",
    "os.listdir(data_path)"
   ]
  },
  {
   "cell_type": "code",
   "execution_count": null,
   "metadata": {},
   "outputs": [],
   "source": [
    "#| export\n",
    "\n",
    "def get_UMI_genotype_paired(fastq_path_fwd: str, #path to the input fastq file reading the ref_seq in the forward orientation\n",
    "                            fastq_path_rev: str, #path to the input fastq file reading the ref_seq in the reverse orientation\n",
    "                            ref_seq: str, #sequence of the reference amplicon\n",
    "                            fwd_span: tuple, #span of the ref_seq that is read in the forward orientation format: (start, end)\n",
    "                            rev_span: tuple, #span of the ref_seq that is read in the reverse orientation format: (start, end)\n",
    "                            require_perfect_pair_agreement: bool = True, #if True only pairs of reads that perfectly agree on the sequence within the common span will be used. If False the fwd sequence will be used. Will be set to False by default if there is no overlap.\n",
    "                            umi_size_fwd: int = 10, #number of nucleotides at the begining of the fwd read that will be used as the UMI\n",
    "                            umi_size_rev: int = 0, #number of nucleotides at the begining of the rev read that will be used as the UMI (if both are provided the umi will be the concatenation of both)\n",
    "                            quality_threshold: int = 30, #threshold value used to filter out reads of poor average quality. Both reads have to pass the threshold.\n",
    "                            ignore_pos: list = [], #list of positions that are ignored in the genotype\n",
    "                            N = None, #number of reads to consider (useful to get a quick view of the data without going through the whole fastq files). If None the whole data will be used.\n",
    "                            **kwargs, #alignment parameters can be passed here (match, mismatch, gap_open, gap_extend)\n",
    "                            ) -> dict:\n",
    "\n",
    "    align_param={\"match\":2,\n",
    "                \"mismatch\":-1, \n",
    "                \"gap_open\":-1, \n",
    "                \"gap_extend\":-.5,\n",
    "                }\n",
    "    \n",
    "    for arg in kwargs:\n",
    "        if arg in align_param:\n",
    "            align_param[arg]=kwargs[arg]\n",
    "\n",
    "    fwd_span = sorted(fwd_span)\n",
    "    rev_span = sorted(rev_span)\n",
    "\n",
    "    if fwd_span[1]>rev_span[0] and (rev_span[1]-rev_span[0])>0:\n",
    "        overlap=True\n",
    "        overlap_size=fwd_span[1]-rev_span[0]\n",
    "    else:\n",
    "        overlap=False\n",
    "        require_perfect_pair_agreement=False\n",
    "\n",
    "    with gz.open(fastq_path_fwd,'rt') as handle1, gz.open(fastq_path_rev,'rt') as handle2:\n",
    "        fwd_reads=SeqIO.parse(handle1,\"fastq\")\n",
    "        rev_reads=SeqIO.parse(handle2,\"fastq\")\n",
    "        n_reads=0\n",
    "        n_reads_pass_Qfilter=0\n",
    "        n_reads_aligned=0\n",
    "        n_reads_agree=0\n",
    "        UMI_dict=defaultdict(list,{})\n",
    "\n",
    "        paired_iter=zip(fwd_reads,rev_reads)\n",
    "        if n_reads!=None:\n",
    "            paired_iter=itertools.islice(paired_iter,0,N)\n",
    "\n",
    "        for r1, r2 in paired_iter:\n",
    "            n_reads+=1\n",
    "            meanScore_r1=np.mean(r1.letter_annotations['phred_quality'])\n",
    "            meanScore_r2=np.mean(r2.letter_annotations['phred_quality'])\n",
    "\n",
    "            if meanScore_r1>quality_threshold and meanScore_r2>quality_threshold:\n",
    "                n_reads_pass_Qfilter+=1\n",
    "                umi1=str(r1.seq[:umi_size_fwd])\n",
    "                umi2=str(r2.seq[:umi_size_rev])\n",
    "                umi=umi1+umi2\n",
    "\n",
    "                fwd_seq=r1.seq[umi_size_fwd:]\n",
    "                rev_seq=r2.seq[umi_size_rev:].reverse_complement()\n",
    "\n",
    "                if overlap:\n",
    "                    fwd_common_seq=str(fwd_seq[rev_span[0]:fwd_span[1]])\n",
    "                    rev_common_seq=str(rev_seq[:overlap_size])\n",
    "                    if require_perfect_pair_agreement:\n",
    "                        if fwd_common_seq==rev_common_seq:\n",
    "                            n_reads_agree+=1\n",
    "                        else:\n",
    "                            continue\n",
    "                        \n",
    "                    consensus=fwd_seq+rev_seq[overlap_size:]\n",
    "                    mutations=get_mutations(ref_seq[fwd_span[0]:rev_span[1]],consensus)\n",
    "                else:\n",
    "                    consensus=\"\"\n",
    "                    if fwd_span[1]-fwd_span[0]>0:\n",
    "                        consensus+=fwd_seq\n",
    "                    if rev_span[1]-rev_span[0]>0:\n",
    "                        consensus+=rev_seq\n",
    "                        \n",
    "                    mutations=get_mutations(ref_seq[fwd_span[0]:fwd_span[1]]+ref_seq[rev_span[0]:rev_span[1]], \n",
    "                                            consensus, \n",
    "                                            **align_param)\n",
    "\n",
    "                if ignore_pos:\n",
    "                    mutations = [m for m in mutations if m[1] not in ignore_pos]\n",
    "                    \n",
    "                n_mut=len(mutations)\n",
    "                if n_mut<15: #more than 10 mutation is almost certainly crap\n",
    "                    n_reads_aligned+=1\n",
    "                    UMI_dict[umi].append(mut_to_str(mutations))\n",
    "    \n",
    "    log='n reads:\\t{}\\nn_reads pass filter:\\t{}\\nn_reads aligned:\\t{}\\nn_pairs agree:\\t{}\\n'.format(n_reads,n_reads_pass_Qfilter,n_reads_aligned,n_reads_agree)\n",
    "    log+=f\"Number of UMIs: {len(UMI_dict)}\\n\"\n",
    "    \n",
    "    UMI_gencounter={}\n",
    "    umi_readcounts=[]\n",
    "    for umi in UMI_dict:\n",
    "        umi_readcounts.append(len(UMI_dict[umi]))\n",
    "        UMI_gencounter[umi]=Counter(UMI_dict[umi])\n",
    "\n",
    "    log+=f\"Median number of reads per UMI: {np.median(umi_readcounts)}\"\n",
    "    print(log)\n",
    "    return UMI_gencounter"
   ]
  },
  {
   "cell_type": "code",
   "execution_count": null,
   "metadata": {},
   "outputs": [],
   "source": [
    "#|hide\n",
    "from Bio.Seq import Seq"
   ]
  },
  {
   "cell_type": "code",
   "execution_count": null,
   "metadata": {},
   "outputs": [
    {
     "name": "stdout",
     "output_type": "stream",
     "text": [
      "n reads:\t10\n",
      "n_reads pass filter:\t10\n",
      "n_reads aligned:\t10\n",
      "n_pairs agree:\t0\n",
      "Number of UMIs: 10\n",
      "Median number of reads per UMI: 1.0\n",
      "GGACGCGATA [('A99C,A100T', 1)]\n",
      "GCTGTATGTT [('A99C,A100T', 1)]\n",
      "GGGAAGGCGT [('', 1)]\n",
      "GGCGACAGTG [('', 1)]\n",
      "CCATGTCGGG [('', 1)]\n",
      "CNGATGTTTG [('A99C,A116T,A117C', 1)]\n",
      "GTCACACCAC [('A100T,A114G,A116G,A117G', 1)]\n",
      "CCAGACTGTT [('', 1)]\n",
      "CAGGGTTTAT [('A99C,A100T', 1)]\n",
      "ATGGGTACGG [('A20T', 1)]\n"
     ]
    }
   ],
   "source": [
    "#|hide\n",
    "fastq_path_fwd=os.path.join(data_path,\"paired_example1_R1.fastq.gz\")\n",
    "fastq_path_rev=os.path.join(data_path,\"paired_example1_R2.fastq.gz\")\n",
    "\n",
    "\n",
    "read_ref_file=\"sacB_ref.fasta\"\n",
    "ref=next(SeqIO.parse(os.path.join(data_path,read_ref_file),\"fasta\"))\n",
    "ref_seq=str(Seq(\"GAGGAGACGGTGACCTGGGTCCCCTGGCCCCAGTTGTTGAAGTCATACCCTTAGGCACCATAGTATCCAGACGCACAGTAGTACAAGGCAGTGTCCTCAGGTTTCAGGCTGTTCATTTGCAGATACACCGTGTTCTTGGCGTTGTCTTGGG\").reverse_complement())\n",
    "\n",
    "UMI_gencounter = get_UMI_genotype_paired(fastq_path_fwd, \n",
    "                                         fastq_path_rev, \n",
    "                                         ref_seq, \n",
    "                                         fwd_span=(0,0), \n",
    "                                         rev_span=(0,150),\n",
    "                                         umi_size_fwd=10,\n",
    "                                         umi_size_rev=0,\n",
    "                                         N=10,\n",
    "                                         ignore_pos=[0,1,2,150,151])\n",
    "\n",
    "for umi in itertools.islice(UMI_gencounter,20):\n",
    "    print(umi, list(UMI_gencounter[umi].items()))"
   ]
  },
  {
   "cell_type": "code",
   "execution_count": null,
   "metadata": {},
   "outputs": [
    {
     "name": "stdout",
     "output_type": "stream",
     "text": [
      "n reads:\t10\n",
      "n_reads pass filter:\t10\n",
      "n_reads aligned:\t10\n",
      "n_pairs agree:\t0\n",
      "Number of UMIs: 10\n",
      "Median number of reads per UMI: 1.0\n",
      "GGACGCGATA [('T50A,T51G', 1)]\n",
      "GCTGTATGTT [('T50A,T51G', 1)]\n",
      "GGGAAGGCGT [('', 1)]\n",
      "GGCGACAGTG [('', 1)]\n",
      "CCATGTCGGG [('', 1)]\n",
      "CNGATGTTTG [('T33G,T34A,T51G', 1)]\n",
      "GTCACACCAC [('T33C,T34C,T36C,T50A', 1)]\n",
      "CCAGACTGTT [('', 1)]\n",
      "CAGGGTTTAT [('T50A,T51G', 1)]\n",
      "ATGGGTACGG [('T130A', 1)]\n"
     ]
    }
   ],
   "source": [
    "fastq_path_fwd=os.path.join(data_path,\"paired_example1_R2.fastq.gz\")\n",
    "fastq_path_rev=os.path.join(data_path,\"paired_example1_R1.fastq.gz\")\n",
    "\n",
    "\n",
    "read_ref_file=\"sacB_ref.fasta\"\n",
    "ref=next(SeqIO.parse(os.path.join(data_path,read_ref_file),\"fasta\"))\n",
    "ref_seq=\"GAGGAGACGGTGACCTGGGTCCCCTGGCCCCAGTTGTTGAAGTCATACCCTTAGGCACCATAGTATCCAGACGCACAGTAGTACAAGGCAGTGTCCTCAGGTTTCAGGCTGTTCATTTGCAGATACACCGTGTTCTTGGCGTTGTCTTGGG\"\n",
    "\n",
    "UMI_gencounter = get_UMI_genotype_paired(fastq_path_fwd, \n",
    "                                         fastq_path_rev, \n",
    "                                         ref_seq, \n",
    "                                         fwd_span=(0,150), \n",
    "                                         rev_span=(0,0),\n",
    "                                         umi_size_fwd=0,\n",
    "                                         umi_size_rev=10,\n",
    "                                         N=10,\n",
    "                                         ignore_pos=[0,1,2,150,151])\n",
    "\n",
    "for umi in itertools.islice(UMI_gencounter,20):\n",
    "    print(umi, list(UMI_gencounter[umi].items()))"
   ]
  },
  {
   "cell_type": "code",
   "execution_count": null,
   "metadata": {},
   "outputs": [],
   "source": [
    "#| export\n",
    "\n",
    "def get_genotypes_paired(fastq_path_fwd: str, #path to the input fastq file reading the ref_seq in the forward orientation\n",
    "                        fastq_path_rev: str, #path to the input fastq file reading the ref_seq in the reverse orientation\n",
    "                        ref_seq: str, #sequence of the reference amplicon\n",
    "                        fwd_span: tuple, #span of the ref_seq that is read in the forward orientation format: (start, end)\n",
    "                        rev_span: tuple, #span of the ref_seq that is read in the reverse orientation format: (start, end)\n",
    "                        require_perfect_pair_agreement: bool = True, #if True only pairs of reads that perfectly agree on the sequence within the common span will be used. If False the fwd sequence will be used. Will be set to False by default if there is no overlap.\n",
    "                        umi_size_fwd: int = 10, #number of nucleotides at the begining of the fwd read that will be used as the UMI\n",
    "                        umi_size_rev: int = 0, #number of nucleotides at the begining of the rev read that will be used as the UMI (if both are provided the umi will be the concatenation of both)\n",
    "                        quality_threshold: int = 30, #threshold value used to filter out reads of poor average quality\n",
    "                        ignore_pos: list = [], #list of positions that are ignored in the genotype\n",
    "                        reads_per_umi_thr: int = 0, #minimum number of reads required to take a UMI into account. Using a number >2 enables to perform error correction for UMIs with multiple reads.\n",
    "                        save_umi_data: str = None, #path to the csv file where to save the details of the genotypes reads for each UMI. If None the data isn't saved.\n",
    "                        N = None, #number of reads to consider (useful to get a quick view of the data without going through the whole fastq files). If None the whole data will be used.\n",
    "                        **kwargs, #alignment parameters can be passed here (match, mismatch, gap_open, gap_extend)\n",
    "                        ):\n",
    "    \"\"\"Putting things together in a single wrapper function that takes the fastq as input and returns the list of genotypes.\"\"\"\n",
    "    UMI_dict = get_UMI_genotype_paired(fastq_path_fwd, \n",
    "                                         fastq_path_rev, \n",
    "                                         ref_seq, \n",
    "                                         fwd_span=fwd_span, \n",
    "                                         rev_span=rev_span,\n",
    "                                         require_perfect_pair_agreement=require_perfect_pair_agreement,\n",
    "                                         umi_size_fwd=umi_size_fwd,\n",
    "                                         umi_size_rev=umi_size_rev,\n",
    "                                         quality_threshold=quality_threshold,\n",
    "                                         ignore_pos=ignore_pos,\n",
    "                                         N=N,\n",
    "                                         **kwargs\n",
    "                                         )\n",
    "    if save_umi_data:\n",
    "        with open(save_umi_data,\"w\", newline='') as handle: \n",
    "            csv_writer = csv.writer(handle,delimiter=\"\\t\",doublequote=False)\n",
    "            for umi in itertools.islice(UMI_dict,20):\n",
    "                csv_writer.writerow([umi,list(UMI_dict[umi].items())])\n",
    "\n",
    "    UMI_gen_dict=correct_UMI_genotypes(UMI_dict, reads_per_umi_thr)\n",
    "    gen_list = genotype_UMI_counter(UMI_gen_dict)\n",
    "    print(\"Number of genotypes:\", len(gen_list))\n",
    "    return gen_list"
   ]
  },
  {
   "cell_type": "code",
   "execution_count": null,
   "metadata": {},
   "outputs": [
    {
     "name": "stdout",
     "output_type": "stream",
     "text": [
      "n reads:\t100\n",
      "n_reads pass filter:\t96\n",
      "n_reads aligned:\t94\n",
      "n_pairs agree:\t0\n",
      "Number of UMIs: 85\n",
      "Median number of reads per UMI: 1.0\n",
      "Number of genotypes: 12\n",
      "49\t\n",
      "23\tT50A,T51G\n",
      "2\tT33G,T34A,T51G\n",
      "2\tT33C,T34C,T36C,T50A\n",
      "2\tT37C,T42C,T45A,T50C,T51C\n",
      "1\tT130A\n",
      "1\tA52C\n",
      "1\tG8A\n",
      "1\tT51C\n",
      "1\tA52C,G131C\n",
      "1\tG69A\n",
      "1\tT37C,T42C,T45A,T50C,T51C,T146A\n"
     ]
    }
   ],
   "source": [
    "gen_list = get_genotypes_paired(fastq_path_fwd, \n",
    "                        fastq_path_rev, \n",
    "                        ref_seq, \n",
    "                        fwd_span=(0,150), \n",
    "                        rev_span=(0,0),\n",
    "                        umi_size_fwd=0,\n",
    "                        umi_size_rev=10,\n",
    "                        ignore_pos=[0,1,150,151],\n",
    "                        N=100,\n",
    "                        save_umi_data=\"test.csv\")\n",
    "for g in gen_list[:20]:\n",
    "    print(f\"{g[1]}\\t{g[0]}\")"
   ]
  },
  {
   "cell_type": "code",
   "execution_count": null,
   "metadata": {},
   "outputs": [],
   "source": [
    "#| hide\n",
    "import nbdev; nbdev.nbdev_export()"
   ]
  }
 ],
 "metadata": {
  "kernelspec": {
   "display_name": "python3",
   "language": "python",
   "name": "python3"
  }
 },
 "nbformat": 4,
 "nbformat_minor": 4
}
